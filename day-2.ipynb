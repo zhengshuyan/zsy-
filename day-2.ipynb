{
 "cells": [
  {
   "cell_type": "code",
   "execution_count": 1,
   "metadata": {},
   "outputs": [],
   "source": [
    "import numpy as np"
   ]
  },
  {
   "cell_type": "code",
   "execution_count": 2,
   "metadata": {},
   "outputs": [],
   "source": [
    "path = \"C:/Users/lenovo/Desktop/Classic_machine_learning-master/data_set/datingTestSet.txt\""
   ]
  },
  {
   "cell_type": "code",
   "execution_count": 3,
   "metadata": {},
   "outputs": [],
   "source": [
    "data = []\n",
    "lables = []\n",
    "open_file = open(path,mode = 'r',encoding = 'gbk')\n",
    "STR = open_file.read()\n",
    "lines = STR.split('\\n')"
   ]
  },
  {
   "cell_type": "code",
   "execution_count": 4,
   "metadata": {},
   "outputs": [],
   "source": [
    "for line in lines [:-1]:\n",
    "    feature = line.split('\\t')\n",
    "    x1,x2,x3,label = float(feature[0]),float(feature[1]),float(feature[2]),feature[3]\n",
    "    data.append([x1,x2,x3])\n",
    "    lables.append(label)\n",
    "\n",
    "data = np.array(data)\n",
    "labels = np.array(lables)"
   ]
  },
  {
   "cell_type": "code",
   "execution_count": 5,
   "metadata": {},
   "outputs": [
    {
     "data": {
      "text/plain": [
       "array([[0.44832535, 0.39805139, 0.56233353],\n",
       "       [0.15873259, 0.34195467, 0.98724416],\n",
       "       [0.28542943, 0.06892523, 0.47449629],\n",
       "       ...,\n",
       "       [0.29115949, 0.50910294, 0.51079493],\n",
       "       [0.52711097, 0.43665451, 0.4290048 ],\n",
       "       [0.47940793, 0.3768091 , 0.78571804]])"
      ]
     },
     "execution_count": 5,
     "metadata": {},
     "output_type": "execute_result"
    }
   ],
   "source": [
    "max_ = np.max(data,axis=0)\n",
    "min_ = np.min(data,axis=0)\n",
    "new_data = (data - min_) / (max_ - min_)\n",
    "new_data"
   ]
  },
  {
   "cell_type": "code",
   "execution_count": 6,
   "metadata": {},
   "outputs": [],
   "source": [
    "from sklearn.model_selection import(train_test_split)\n",
    "x_train,x_test,y_train,y_test = train_test_split(new_data,labels,test_size=0.3,random_state = 42)\n"
   ]
  },
  {
   "cell_type": "code",
   "execution_count": 7,
   "metadata": {},
   "outputs": [],
   "source": [
    "def KNN_model(X_train, X_test, y_train, y_test,K):\n",
    "    accuracy = 0\n",
    "    m,n = X_test.shape  # shape at test set .\n",
    "    for i in range(m):       \n",
    "        data = X_test[i]\n",
    "        Euclidean_distance = np.power(np.sum((data - X_train)**2,axis=1),0.5)\n",
    "        sort_k = np.argsort(Euclidean_distance)[:K]  # real number of k.   \n",
    "        get_K_y = y_train[sort_k]\n",
    "        prob_dict = {}\n",
    "\n",
    "        \n",
    "        for label in get_K_y:\n",
    "            if label not in prob_dict:\n",
    "                prob_dict[label] = 1\n",
    "            else:\n",
    "                prob_dict[label] += 1\n",
    "\n",
    "        predict_y = sorted(prob_dict.items(),key=lambda z:z[1],reverse=True)[0][0]\n",
    "        \n",
    "        # checking predict y is right?\n",
    "        if predict_y == y_test[i]:\n",
    "            accuracy += 1\n",
    "    \n",
    "    print('The test set accurate is {}'.format(accuracy / len(y_test)))"
   ]
  },
  {
   "cell_type": "code",
   "execution_count": 9,
   "metadata": {},
   "outputs": [
    {
     "name": "stdout",
     "output_type": "stream",
     "text": [
      "The test set accurate is 0.93\n"
     ]
    }
   ],
   "source": [
    "KNN_model(x_train,x_test,y_train,y_test,9)"
   ]
  },
  {
   "cell_type": "code",
   "execution_count": null,
   "metadata": {},
   "outputs": [],
   "source": []
  }
 ],
 "metadata": {
  "kernelspec": {
   "display_name": "Python 3",
   "language": "python",
   "name": "python3"
  },
  "language_info": {
   "codemirror_mode": {
    "name": "ipython",
    "version": 3
   },
   "file_extension": ".py",
   "mimetype": "text/x-python",
   "name": "python",
   "nbconvert_exporter": "python",
   "pygments_lexer": "ipython3",
   "version": "3.7.3"
  }
 },
 "nbformat": 4,
 "nbformat_minor": 2
}
